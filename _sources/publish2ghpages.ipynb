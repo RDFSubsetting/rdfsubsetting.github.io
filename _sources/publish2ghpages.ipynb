{
 "cells": [
  {
   "cell_type": "code",
   "execution_count": 5,
   "outputs": [
    {
     "name": "stderr",
     "output_type": "stream",
     "text": [
      "To github.com:RDFSubsetting/rdfsubsetting.github.io.git\n",
      "   3e286ad..5247ecf  gh-pages -> gh-pages\n"
     ]
    }
   ],
   "source": [
    "from ghp_import import ghp_import\n",
    "ghp_import(\"_build/html\", nojekyll=True, push=True, force=True)"
   ],
   "metadata": {
    "collapsed": false,
    "ExecuteTime": {
     "end_time": "2023-07-01T01:05:45.422437Z",
     "start_time": "2023-07-01T01:05:31.748628Z"
    }
   }
  },
  {
   "cell_type": "code",
   "execution_count": null,
   "outputs": [],
   "source": [],
   "metadata": {
    "collapsed": false
   }
  }
 ],
 "metadata": {
  "kernelspec": {
   "display_name": "Python 3",
   "language": "python",
   "name": "python3"
  },
  "language_info": {
   "codemirror_mode": {
    "name": "ipython",
    "version": 2
   },
   "file_extension": ".py",
   "mimetype": "text/x-python",
   "name": "python",
   "nbconvert_exporter": "python",
   "pygments_lexer": "ipython2",
   "version": "2.7.6"
  }
 },
 "nbformat": 4,
 "nbformat_minor": 0
}
